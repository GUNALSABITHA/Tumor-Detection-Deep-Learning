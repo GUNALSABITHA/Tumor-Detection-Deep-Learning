{
 "cells": [
  {
   "cell_type": "code",
   "execution_count": 21,
   "id": "initial_id",
   "metadata": {
    "ExecuteTime": {
     "end_time": "2024-03-19T07:11:20.897859Z",
     "start_time": "2024-03-19T07:11:17.628236Z"
    }
   },
   "outputs": [],
   "source": [
    "import tensorflow as tf\n",
    "import matplotlib.pyplot as plt\n",
    "import os\n",
    "import zipfile\n",
    "import math\n",
    "import kaggle\n",
    "import shutil\n",
    "import glob\n",
    "import numpy as np\n",
    "import warnings\n",
    "warnings.filterwarnings('ignore')\n",
    "\n",
    "from PIL import Image"
   ]
  },
  {
   "cell_type": "code",
   "execution_count": 2,
   "id": "eef66d268b22e129",
   "metadata": {
    "ExecuteTime": {
     "end_time": "2024-03-19T07:19:56.325210Z",
     "start_time": "2024-03-19T07:19:56.304397Z"
    }
   },
   "outputs": [
    {
     "name": "stdout",
     "output_type": "stream",
     "text": [
      "2.17.0-dev20240310\n"
     ]
    }
   ],
   "source": [
    "print(tf.__version__)"
   ]
  },
  {
   "cell_type": "code",
   "execution_count": null,
   "id": "7c35a622-6cde-4c14-b04b-2bfe2d2c0c7e",
   "metadata": {},
   "outputs": [],
   "source": [
    "!kaggle datasets download -d preetviradiya/brian-tumor-dataset"
   ]
  },
  {
   "cell_type": "code",
   "execution_count": 12,
   "id": "cc3978a5-02f0-4bdc-94a6-abf37c8d755c",
   "metadata": {},
   "outputs": [],
   "source": [
    "with zipfile.ZipFile('brian-tumor-dataset.zip', 'r') as zip_ref:\n",
    "    zip_ref.extractall()\n"
   ]
  },
  {
   "cell_type": "code",
   "execution_count": 65,
   "id": "9689ef4f-d8e2-4309-993d-6730cbec4793",
   "metadata": {},
   "outputs": [],
   "source": [
    "ROOT_DIR = \"Brain Tumor Data Set/\"\n",
    "number_of_images = {}"
   ]
  },
  {
   "cell_type": "code",
   "execution_count": 66,
   "id": "d0884482-1136-46d5-b82a-baed3bcb8356",
   "metadata": {},
   "outputs": [],
   "source": [
    "for i in os.listdir(ROOT_DIR):\n",
    "    if i.startswith(\".\"):\n",
    "        continue\n",
    "    number_of_images[i] = len(os.listdir(os.path.join(ROOT_DIR,i)))"
   ]
  },
  {
   "cell_type": "code",
   "execution_count": 67,
   "id": "3e1efb8a-bf69-403b-a976-95d7b4fd57c0",
   "metadata": {},
   "outputs": [
    {
     "data": {
      "text/plain": [
       "{'Brain Tumor': 2514, 'Healthy': 2087}"
      ]
     },
     "execution_count": 67,
     "metadata": {},
     "output_type": "execute_result"
    }
   ],
   "source": [
    "number_of_images"
   ]
  },
  {
   "cell_type": "code",
   "execution_count": 49,
   "id": "13f9e2e5-0a8d-42c2-aac1-b3b4736ea705",
   "metadata": {},
   "outputs": [],
   "source": [
    "filetypes = {}\n",
    "for k in number_of_images.keys():\n",
    "    filetypes[k] = set()\n",
    "    for i in os.listdir(os.path.join(ROOT_DIR,k)):\n",
    "        filetypes[k].add(i.split(\".\")[-1])"
   ]
  },
  {
   "cell_type": "code",
   "execution_count": 50,
   "id": "2b27b3a1-49e1-42a2-8379-c0f668d197bb",
   "metadata": {},
   "outputs": [
    {
     "data": {
      "text/plain": [
       "{'Brain Tumor': {'JPG', 'ipynb_checkpoints', 'jpg', 'png', 'tif'},\n",
       " 'Healthy': {'JPG', 'jpeg', 'jpg', 'png'}}"
      ]
     },
     "execution_count": 50,
     "metadata": {},
     "output_type": "execute_result"
    }
   ],
   "source": [
    "filetypes"
   ]
  },
  {
   "cell_type": "code",
   "execution_count": 48,
   "id": "4ff9f2e9-79a5-4ab0-8846-49b1d2e1efb8",
   "metadata": {},
   "outputs": [],
   "source": [
    "!rm -rf Brain\\ Tumor\\ Data\\ Set/'Brain Tumor'/ipynb_checkpoints"
   ]
  },
  {
   "cell_type": "markdown",
   "id": "e4de0962-00bc-40c7-896d-f668e1480c76",
   "metadata": {},
   "source": [
    "# Data Splitting for Training, Validation and Testing\n",
    "\n",
    "- ```train``` : Directory which will contain the training images (70% of data)\n",
    "- ```val``` : Directory which will contain  the validation images (15% of data)\n",
    "- ```test``` : Directory which will contain the testing images (15% of data)"
   ]
  },
  {
   "cell_type": "code",
   "execution_count": 59,
   "id": "c30d9a93-5598-442e-af96-383cf7f19c41",
   "metadata": {},
   "outputs": [
    {
     "data": {
      "text/plain": [
       "[]"
      ]
     },
     "execution_count": 59,
     "metadata": {},
     "output_type": "execute_result"
    }
   ],
   "source": [
    "os.listdir(\"data/train/Brain Tumor\")"
   ]
  },
  {
   "cell_type": "code",
   "execution_count": 51,
   "id": "a7742901-ff0a-49f4-8767-cc79bb30beb8",
   "metadata": {},
   "outputs": [
    {
     "name": "stdout",
     "output_type": "stream",
     "text": [
      "Train does not exists\n"
     ]
    }
   ],
   "source": [
    "if not os.path.exists(\"data/train\"):\n",
    "\n",
    "    os.mkdir(\"data/train\")\n",
    "\n",
    "    for dir in os.listdir(ROOT_DIR):\n",
    "        os.makedirs(f\"data/train/{dir}\")\n",
    "\n",
    "        for img in np.random.choice(\n",
    "            a = os.listdir(os.path.join(ROOT_DIR,dir))\n",
    "            size = int(math.floor(0.7 * number_of_images[dir])),\n",
    "            replace=False\n",
    "        ):\n",
    "        \n",
    "    \n",
    "\n",
    "\n",
    "    \n",
    "else:\n",
    "    print(\"Train exists\")"
   ]
  }
 ],
 "metadata": {
  "kernelspec": {
   "display_name": "Python 3 (ipykernel)",
   "language": "python",
   "name": "python3"
  },
  "language_info": {
   "codemirror_mode": {
    "name": "ipython",
    "version": 3
   },
   "file_extension": ".py",
   "mimetype": "text/x-python",
   "name": "python",
   "nbconvert_exporter": "python",
   "pygments_lexer": "ipython3",
   "version": "3.10.13"
  }
 },
 "nbformat": 4,
 "nbformat_minor": 5
}
