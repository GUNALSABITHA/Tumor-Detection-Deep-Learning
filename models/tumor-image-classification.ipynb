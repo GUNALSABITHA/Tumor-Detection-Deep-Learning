{
 "cells": [
  {
   "cell_type": "code",
   "execution_count": 1,
   "id": "initial_id",
   "metadata": {
    "ExecuteTime": {
     "end_time": "2024-03-19T16:18:23.719064Z",
     "start_time": "2024-03-19T16:18:15.630903Z"
    }
   },
   "outputs": [
    {
     "name": "stderr",
     "output_type": "stream",
     "text": [
      "2024-03-19 21:48:18.218060: I tensorflow/core/platform/cpu_feature_guard.cc:182] This TensorFlow binary is optimized to use available CPU instructions in performance-critical operations.\n",
      "To enable the following instructions: AVX2 FMA, in other operations, rebuild TensorFlow with the appropriate compiler flags.\n"
     ]
    },
    {
     "name": "stdout",
     "output_type": "stream",
     "text": [
      "Warning: Your Kaggle API key is readable by other users on this system! To fix this, you can run 'chmod 600 /Users/kausik/.kaggle/kaggle.json'\n"
     ]
    }
   ],
   "source": [
    "import tensorflow as tf\n",
    "import keras\n",
    "import matplotlib.pyplot as plt\n",
    "import os\n",
    "import zipfile\n",
    "import math\n",
    "import kaggle\n",
    "import shutil\n",
    "import glob\n",
    "import numpy as np\n",
    "import warnings\n",
    "warnings.filterwarnings('ignore')\n",
    "\n",
    "from PIL import Image"
   ]
  },
  {
   "cell_type": "code",
   "execution_count": 2,
   "id": "eef66d268b22e129",
   "metadata": {
    "ExecuteTime": {
     "end_time": "2024-03-19T16:18:30.357343Z",
     "start_time": "2024-03-19T16:18:30.351586Z"
    }
   },
   "outputs": [
    {
     "name": "stdout",
     "output_type": "stream",
     "text": [
      "2.15.0\n",
      "2.15.0\n"
     ]
    }
   ],
   "source": [
    "print(tf.__version__)\n",
    "print(keras.__version__)"
   ]
  },
  {
   "cell_type": "code",
   "execution_count": null,
   "id": "7c35a622-6cde-4c14-b04b-2bfe2d2c0c7e",
   "metadata": {},
   "outputs": [],
   "source": [
    "!kaggle datasets download -d preetviradiya/brian-tumor-dataset"
   ]
  },
  {
   "cell_type": "code",
   "execution_count": null,
   "id": "cc3978a5-02f0-4bdc-94a6-abf37c8d755c",
   "metadata": {},
   "outputs": [],
   "source": [
    "import zipfile\n",
    "with zipfile.ZipFile('brian-tumor-dataset.zip', 'r') as zip_ref:\n",
    "    zip_ref.extractall()\n"
   ]
  },
  {
   "cell_type": "markdown",
   "id": "e4de0962-00bc-40c7-896d-f668e1480c76",
   "metadata": {},
   "source": [
    "# Data Splitting for Training, Validation and Testing\n",
    "\n",
    "- ```train``` : Directory which will contain the training images (70% of data)\n",
    "- ```val``` : Directory which will contain  the validation images (15% of data)\n",
    "- ```test``` : Directory which will contain the testing images (15% of data)"
   ]
  },
  {
   "cell_type": "code",
   "execution_count": null,
   "id": "c30d9a93-5598-442e-af96-383cf7f19c41",
   "metadata": {},
   "outputs": [],
   "source": [
    "from creating_data_directories import create_data_directory"
   ]
  },
  {
   "cell_type": "code",
   "execution_count": null,
   "id": "a7742901-ff0a-49f4-8767-cc79bb30beb8",
   "metadata": {},
   "outputs": [],
   "source": [
    "create_data_directory('data', \"Brain Tumor Data Set/Brain Tumor Data Set\", \"test\", 0.15)\n",
    "print(f\"The test directory has been created with {len(os.listdir('data/test'))} subdirectories.\")\n",
    "create_data_directory('data', \"Brain Tumor Data Set/Brain Tumor Data Set\", \"val\", 0.15)\n",
    "print(f\"The val directory has been created with {len(os.listdir('data/val'))} subdirectories.\")\n",
    "create_data_directory('data',\"Brain Tumor Data Set/Brain Tumor Data Set\", \"train\")\n",
    "print(f\"The train directory has been created with {len(os.listdir('data/train'))} subdirectories.\")"
   ]
  },
  {
   "cell_type": "markdown",
   "source": [
    "## Data Directories Successfully Created"
   ],
   "metadata": {
    "collapsed": false
   },
   "id": "c540a0c1ec03fc72"
  },
  {
   "cell_type": "markdown",
   "source": [
    "# Building the Model"
   ],
   "metadata": {
    "collapsed": false
   },
   "id": "b539369616a3c7e0"
  },
  {
   "cell_type": "markdown",
   "source": [
    "## Importing the required libraries and packages"
   ],
   "metadata": {
    "collapsed": false
   },
   "id": "2003b3b1a03e5746"
  },
  {
   "cell_type": "code",
   "outputs": [],
   "source": [
    "from tensorflow.keras.layers import Conv2D, MaxPool2D, Flatten, Dense, Dropout,BatchNormalization\n",
    "from tensorflow.keras.models import Sequential\n",
    "from tensorflow.keras.preprocessing.image import img_to_array, load_img,ImageDataGenerator"
   ],
   "metadata": {
    "collapsed": false,
    "ExecuteTime": {
     "end_time": "2024-03-19T16:51:17.994847Z",
     "start_time": "2024-03-19T16:51:17.942147Z"
    }
   },
   "id": "532b32fd4bc74c5c",
   "execution_count": 22
  },
  {
   "cell_type": "markdown",
   "source": [
    "### Building the CNN model"
   ],
   "metadata": {
    "collapsed": false
   },
   "id": "6b0c9406b3a27fea"
  },
  {
   "cell_type": "code",
   "outputs": [],
   "source": [
    "model = Sequential()\n",
    "\n",
    "model.add(Conv2D(filters=16,kernel_size=(3,3),activation=\"relu\",input_shape=(224,224,3), padding='same'))\n",
    "\n",
    "model.add(Conv2D(filters=32,kernel_size=(3,3),activation=\"relu\"))\n",
    "model.add(BatchNormalization())\n",
    "model.add(MaxPool2D(pool_size=(2,2)))\n",
    "\n",
    "model.add(Conv2D(filters=64,kernel_size=(3,3),activation=\"relu\"))\n",
    "model.add(BatchNormalization())\n",
    "model.add(MaxPool2D(pool_size=(2,2)))\n",
    "\n",
    "model.add(Conv2D(filters=128,kernel_size=(3,3),activation=\"relu\"))\n",
    "model.add(BatchNormalization())\n",
    "model.add(MaxPool2D(pool_size=(2,2)))\n",
    "\n",
    "model.add(Dropout(rate=0.25))\n",
    "\n",
    "model.add(Flatten())\n",
    "model.add(Dense(units=64,activation='relu'))\n",
    "model.add(Dropout(rate=0.25))\n",
    "model.add(Dense(units=1,activation='sigmoid'))"
   ],
   "metadata": {
    "collapsed": false,
    "ExecuteTime": {
     "end_time": "2024-03-19T16:51:30.529513Z",
     "start_time": "2024-03-19T16:51:30.285150Z"
    }
   },
   "id": "f3f2a299c1871da",
   "execution_count": 25
  },
  {
   "cell_type": "code",
   "outputs": [
    {
     "name": "stdout",
     "output_type": "stream",
     "text": [
      "Model: \"sequential_3\"\n",
      "_________________________________________________________________\n",
      " Layer (type)                Output Shape              Param #   \n",
      "=================================================================\n",
      " conv2d_10 (Conv2D)          (None, 224, 224, 16)      448       \n",
      "                                                                 \n",
      " conv2d_11 (Conv2D)          (None, 222, 222, 32)      4640      \n",
      "                                                                 \n",
      " batch_normalization_3 (Bat  (None, 222, 222, 32)      128       \n",
      " chNormalization)                                                \n",
      "                                                                 \n",
      " max_pooling2d_6 (MaxPoolin  (None, 111, 111, 32)      0         \n",
      " g2D)                                                            \n",
      "                                                                 \n",
      " conv2d_12 (Conv2D)          (None, 109, 109, 64)      18496     \n",
      "                                                                 \n",
      " batch_normalization_4 (Bat  (None, 109, 109, 64)      256       \n",
      " chNormalization)                                                \n",
      "                                                                 \n",
      " max_pooling2d_7 (MaxPoolin  (None, 54, 54, 64)        0         \n",
      " g2D)                                                            \n",
      "                                                                 \n",
      " conv2d_13 (Conv2D)          (None, 52, 52, 128)       73856     \n",
      "                                                                 \n",
      " batch_normalization_5 (Bat  (None, 52, 52, 128)       512       \n",
      " chNormalization)                                                \n",
      "                                                                 \n",
      " max_pooling2d_8 (MaxPoolin  (None, 26, 26, 128)       0         \n",
      " g2D)                                                            \n",
      "                                                                 \n",
      " dropout_4 (Dropout)         (None, 26, 26, 128)       0         \n",
      "                                                                 \n",
      " flatten_2 (Flatten)         (None, 86528)             0         \n",
      "                                                                 \n",
      " dense_4 (Dense)             (None, 64)                5537856   \n",
      "                                                                 \n",
      " dropout_5 (Dropout)         (None, 64)                0         \n",
      "                                                                 \n",
      " dense_5 (Dense)             (None, 1)                 65        \n",
      "                                                                 \n",
      "=================================================================\n",
      "Total params: 5636257 (21.50 MB)\n",
      "Trainable params: 5635809 (21.50 MB)\n",
      "Non-trainable params: 448 (1.75 KB)\n",
      "_________________________________________________________________\n"
     ]
    }
   ],
   "source": [
    "model.summary()"
   ],
   "metadata": {
    "collapsed": false,
    "ExecuteTime": {
     "end_time": "2024-03-19T16:51:32.284106Z",
     "start_time": "2024-03-19T16:51:32.246472Z"
    }
   },
   "id": "41450272f0a6e5da",
   "execution_count": 26
  },
  {
   "cell_type": "code",
   "outputs": [],
   "source": [
    "model.compile(optimizer=\"adam\",loss=keras.losses.binary_crossentropy)"
   ],
   "metadata": {
    "collapsed": false,
    "ExecuteTime": {
     "end_time": "2024-03-19T16:51:45.350986Z",
     "start_time": "2024-03-19T16:51:45.339402Z"
    }
   },
   "id": "ae12f7e5d30a3209",
   "execution_count": 27
  },
  {
   "cell_type": "markdown",
   "source": [
    "## Preparing data from Data Generators"
   ],
   "metadata": {
    "collapsed": false
   },
   "id": "dc5dec6551307a7e"
  },
  {
   "cell_type": "code",
   "outputs": [],
   "source": [
    "from keras.preprocessing.image import ImageDataGenerator"
   ],
   "metadata": {
    "collapsed": false,
    "ExecuteTime": {
     "end_time": "2024-03-19T16:20:35.378693Z",
     "start_time": "2024-03-19T16:20:35.375321Z"
    }
   },
   "id": "15d2ad3fb036ffb3",
   "execution_count": 8
  },
  {
   "cell_type": "code",
   "outputs": [],
   "source": [
    "def preprocessing_images(path):\n",
    "    \"\"\"\n",
    "    This function preprocesses the images in the given path.\n",
    "    :param path: The path of the images.\n",
    "    :return: The preprocessed images.\n",
    "    \"\"\"\n",
    "    image_data = ImageDataGenerator(\n",
    "        zoom_range=0.2,\n",
    "        rescale=1./255,\n",
    "        horizontal_flip=True\n",
    "    )\n",
    "    \n",
    "    images = image_data.flow_from_directory(\n",
    "        directory=path,\n",
    "        target_size=(224,224),\n",
    "        class_mode=\"binary\",\n",
    "        shuffle=True,\n",
    "        classes=[\"Brain Tumor\",\"Healthy\"]\n",
    "    )\n",
    "    \n",
    "    return images"
   ],
   "metadata": {
    "collapsed": false,
    "ExecuteTime": {
     "end_time": "2024-03-19T16:52:00.193482Z",
     "start_time": "2024-03-19T16:52:00.188385Z"
    }
   },
   "id": "f02a37aaf79154aa",
   "execution_count": 28
  },
  {
   "cell_type": "code",
   "outputs": [
    {
     "name": "stdout",
     "output_type": "stream",
     "text": [
      "Found 3325 images belonging to 2 classes.\n",
      "Found 689 images belonging to 2 classes.\n",
      "Found 586 images belonging to 2 classes.\n"
     ]
    }
   ],
   "source": [
    "# train_data_generator = image_dataset_from_directory(\n",
    "#     directory=\"data/train\",\n",
    "#     labels=\"inferred\",\n",
    "#     class_names=[\"Brain Tumor\",\"Healthy\"],\n",
    "#     color_mode=\"rgb\",\n",
    "#     image_size=(224,224),\n",
    "#     shuffle=True,\n",
    "# )\n",
    "# \n",
    "# test_data_generator = image_dataset_from_directory(\n",
    "#     directory=\"data/test\",\n",
    "#     labels=\"inferred\",\n",
    "#     class_names=[\"Brain Tumor\",\"Healthy\"],\n",
    "#     color_mode=\"rgb\",\n",
    "#     image_size=(224,224),\n",
    "#     shuffle=True,\n",
    "# )\n",
    "# \n",
    "# val_data_generator = image_dataset_from_directory(\n",
    "#     directory=\"data/val\",\n",
    "#     labels=\"inferred\",\n",
    "#     class_names=[\"Brain Tumor\",\"Healthy\"],\n",
    "#     color_mode=\"rgb\",\n",
    "#     image_size=(224,224),\n",
    "#     shuffle=True,\n",
    "# )\n",
    "\n",
    "train_data = preprocessing_images(\"data/train\")\n",
    "test_data = preprocessing_images(\"data/test\")\n",
    "val_data = preprocessing_images(\"data/val\")"
   ],
   "metadata": {
    "collapsed": false,
    "ExecuteTime": {
     "end_time": "2024-03-19T16:52:06.355128Z",
     "start_time": "2024-03-19T16:52:06.039725Z"
    }
   },
   "id": "b73e4ed66c832c86",
   "execution_count": 29
  },
  {
   "cell_type": "markdown",
   "source": [
    "## Early Stopping\n",
    "\n",
    "We shall ask keras to stop the iterations early on if it does not find\n",
    "any improvement in subsequent epochs"
   ],
   "metadata": {
    "collapsed": false
   },
   "id": "84f97eb047e8caa7"
  },
  {
   "cell_type": "code",
   "outputs": [],
   "source": [
    "from keras.callbacks import EarlyStopping, ModelCheckpoint, CSVLogger, ProgbarLogger, LearningRateScheduler"
   ],
   "metadata": {
    "collapsed": false,
    "ExecuteTime": {
     "end_time": "2024-03-19T16:52:10.645672Z",
     "start_time": "2024-03-19T16:52:10.642661Z"
    }
   },
   "id": "9591a3b65f31f92d",
   "execution_count": 30
  },
  {
   "cell_type": "code",
   "outputs": [],
   "source": [
    "earlystopping = EarlyStopping(\n",
    "    monitor='val_loss',\n",
    "    min_delta=0.01,\n",
    "    patience=15,\n",
    "    verbose=1,\n",
    "    start_from_epoch=50,\n",
    "    mode = 'min'\n",
    ")\n",
    "\n",
    "modelcheckpoint = ModelCheckpoint(\n",
    "    filepath=\"final_model.keras\",\n",
    "    monitor='val_loss',\n",
    "    save_best_only=True,\n",
    "    verbose=1\n",
    ")\n",
    "\n",
    "logger = CSVLogger(\n",
    "    filename=\"performance.csv\",\n",
    "    append=True\n",
    ")\n",
    "\n",
    "pbloader = ProgbarLogger()"
   ],
   "metadata": {
    "collapsed": false,
    "ExecuteTime": {
     "end_time": "2024-03-19T16:52:20.402372Z",
     "start_time": "2024-03-19T16:52:20.396730Z"
    }
   },
   "id": "ce6c4f61c74a309b",
   "execution_count": 31
  },
  {
   "cell_type": "code",
   "outputs": [],
   "source": [
    "callbacks = [earlystopping,modelcheckpoint,logger,pbloader]"
   ],
   "metadata": {
    "collapsed": false,
    "ExecuteTime": {
     "end_time": "2024-03-19T16:52:22.894707Z",
     "start_time": "2024-03-19T16:52:22.891455Z"
    }
   },
   "id": "be86e7118bcae755",
   "execution_count": 32
  },
  {
   "cell_type": "code",
   "outputs": [
    {
     "name": "stdout",
     "output_type": "stream",
     "text": [
      "Epoch 1/50\n",
      "      0/Unknown - 26s 0s/sample - loss: 8.0045\n",
      "Epoch 1: val_loss improved from inf to 1.10090, saving model to final_model.keras\n",
      "8/8 [==============================] - 42s 5s/sample - loss: 8.0045 - val_loss: 1.1009\n",
      "Epoch 2/50\n",
      "0/8 [..............................] - ETA: 0s - loss: 1.8427\n",
      "Epoch 2: val_loss did not improve from 1.10090\n",
      "8/8 [==============================] - 34s 4s/sample - loss: 1.8427 - val_loss: 2.3003\n",
      "Epoch 3/50\n",
      "0/8 [..............................] - ETA: 0s - loss: 0.9755\n",
      "Epoch 3: val_loss did not improve from 1.10090\n",
      "8/8 [==============================] - 34s 4s/sample - loss: 0.9755 - val_loss: 5.3793\n",
      "Epoch 4/50\n",
      "0/8 [..............................] - ETA: 0s - loss: 0.7741\n",
      "Epoch 4: val_loss did not improve from 1.10090\n",
      "8/8 [==============================] - 36s 4s/sample - loss: 0.7741 - val_loss: 8.5814\n",
      "Epoch 5/50\n",
      "0/8 [..............................] - ETA: 0s - loss: 0.6914\n",
      "Epoch 5: val_loss did not improve from 1.10090\n",
      "8/8 [==============================] - 34s 4s/sample - loss: 0.6787 - val_loss: 10.4847\n",
      "Epoch 6/50\n",
      "0/8 [..............................] - ETA: 0s - loss: 0.7791\n",
      "Epoch 6: val_loss did not improve from 1.10090\n",
      "8/8 [==============================] - 39s 5s/sample - loss: 0.7791 - val_loss: 12.9945\n",
      "Epoch 7/50\n",
      "0/8 [..............................] - ETA: 0s - loss: 0.8309\n",
      "Epoch 7: val_loss did not improve from 1.10090\n",
      "8/8 [==============================] - 118s 15s/sample - loss: 0.8309 - val_loss: 12.1757\n",
      "Epoch 8/50\n",
      "0/8 [..............................] - ETA: 0s - loss: 0.7807\n",
      "Epoch 8: val_loss did not improve from 1.10090\n",
      "8/8 [==============================] - 56s 7s/sample - loss: 0.7807 - val_loss: 11.2998\n",
      "Epoch 9/50\n",
      "0/8 [..............................] - ETA: 0s - loss: 0.7181\n",
      "Epoch 9: val_loss did not improve from 1.10090\n",
      "8/8 [==============================] - 76s 10s/sample - loss: 0.7181 - val_loss: 10.3360\n",
      "Epoch 10/50\n",
      "0/8 [..............................] - ETA: 0s - loss: 0.7696\n",
      "Epoch 10: val_loss did not improve from 1.10090\n",
      "8/8 [==============================] - 56s 7s/sample - loss: 0.7696 - val_loss: 10.3339\n",
      "Epoch 11/50\n",
      "0/8 [..............................] - ETA: 0s - loss: 0.6795\n",
      "Epoch 11: val_loss did not improve from 1.10090\n",
      "8/8 [==============================] - 81s 10s/sample - loss: 0.6795 - val_loss: 9.9281\n",
      "Epoch 12/50\n",
      "0/8 [..............................] - ETA: 0s - loss: 0.6763\n",
      "Epoch 12: val_loss did not improve from 1.10090\n",
      "8/8 [==============================] - 83s 10s/sample - loss: 0.6763 - val_loss: 8.9204\n",
      "Epoch 13/50\n",
      "0/8 [..............................] - ETA: 0s - loss: 0.7085\n",
      "Epoch 13: val_loss did not improve from 1.10090\n",
      "8/8 [==============================] - 68s 8s/sample - loss: 0.7085 - val_loss: 2.4222\n",
      "Epoch 14/50\n",
      "0/8 [..............................] - ETA: 0s - loss: 0.8021\n",
      "Epoch 14: val_loss did not improve from 1.10090\n",
      "8/8 [==============================] - 91s 11s/sample - loss: 0.8021 - val_loss: 2.6873\n",
      "Epoch 15/50\n",
      "0/8 [..............................] - ETA: 0s - loss: 0.6830"
     ]
    }
   ],
   "source": [
    "# Training the model\n",
    "history = model.fit(train_data,steps_per_epoch=8,epochs=50,verbose=1,validation_data=val_data,validation_steps=16,callbacks=callbacks)"
   ],
   "metadata": {
    "collapsed": false,
    "is_executing": true,
    "ExecuteTime": {
     "start_time": "2024-03-19T16:53:01.651541Z"
    }
   },
   "id": "10e96e27fdddcb0b",
   "execution_count": null
  },
  {
   "cell_type": "code",
   "outputs": [
    {
     "data": {
      "text/plain": "<Axes: >"
     },
     "execution_count": 17,
     "metadata": {},
     "output_type": "execute_result"
    },
    {
     "data": {
      "text/plain": "<Figure size 640x480 with 1 Axes>",
      "image/png": "[encoded data removed]"
     },
     "metadata": {},
     "output_type": "display_data"
    }
   ],
   "source": [
    "import pandas as pd\n",
    "pd.DataFrame(history.history).plot()"
   ],
   "metadata": {
    "collapsed": false,
    "ExecuteTime": {
     "end_time": "2024-03-19T16:48:20.699461Z",
     "start_time": "2024-03-19T16:48:20.447082Z"
    }
   },
   "id": "8faca8dbaab9629a",
   "execution_count": 17
  },
  {
   "cell_type": "code",
   "outputs": [],
   "source": [
    "model.save(\"final-model.keras\")"
   ],
   "metadata": {
    "collapsed": false
   },
   "id": "134f544cef678373"
  }
 ],
 "metadata": {
  "kernelspec": {
   "display_name": "Python 3 (ipykernel)",
   "language": "python",
   "name": "python3"
  },
  "language_info": {
   "codemirror_mode": {
    "name": "ipython",
    "version": 3
   },
   "file_extension": ".py",
   "mimetype": "text/x-python",
   "name": "python",
   "nbconvert_exporter": "python",
   "pygments_lexer": "ipython3",
   "version": "3.10.13"
  }
 },
 "nbformat": 4,
 "nbformat_minor": 5
}
